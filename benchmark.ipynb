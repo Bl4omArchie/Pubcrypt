{
 "cells": [
  {
   "attachments": {},
   "cell_type": "markdown",
   "metadata": {},
   "source": [
    "# Pubcrypt benchmarking\n",
    "\n",
    "a refaire...\n",
    "\n",
    "## Table of contents\n",
    "\n",
    "\n",
    "\n",
    "## Case #1: Miller Rabin primality test\n",
    "\n",
    "The first algorithm I wanted to imprve was the Miller-Rabin primality test, the algorithm that check if yes or not a number is prime.\n",
    "This algorithm must be very efficient in order to make the keypair generation fast, so it is very important.\n",
    "My observation is the following: the time of generation for a keypair vary a lot from one to another. (ie: one keypair: 4s and the second one: 20s). See the graph below:"
   ]
  },
  {
   "cell_type": "code",
   "execution_count": 1,
   "metadata": {},
   "outputs": [],
   "source": [
    "from benchmark.generate import *\n",
    "\n"
   ]
  },
  {
   "cell_type": "markdown",
   "metadata": {},
   "source": [
    "In my algorithm, we find prime number by picking a random number and then checking if he is prime or not. This method (recommended by the NIST) is indeed problematic: if I don't find a prime number, I can repeat the operation many time as needed. This explain "
   ]
  }
 ],
 "metadata": {
  "kernelspec": {
   "display_name": "Python 3",
   "language": "python",
   "name": "python3"
  },
  "language_info": {
   "codemirror_mode": {
    "name": "ipython",
    "version": 3
   },
   "file_extension": ".py",
   "mimetype": "text/x-python",
   "name": "python",
   "nbconvert_exporter": "python",
   "pygments_lexer": "ipython3",
   "version": "3.10.6"
  },
  "orig_nbformat": 4
 },
 "nbformat": 4,
 "nbformat_minor": 2
}
