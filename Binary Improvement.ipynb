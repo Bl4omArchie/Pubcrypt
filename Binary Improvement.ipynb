{
 "cells": [
  {
   "cell_type": "markdown",
   "metadata": {},
   "source": [
    "# Algorithm improvement with binary operators\n",
    "\n",
    "After my first improvement with the revision of Miller-Rabin, I look at what I could upgrade next. Binary operations is something that I've heard a lot about and that I want to learn more about. \n",
    "So no more small talks and let's start with our new goal: improve Pubcrypt library with binary operations.\n",
    "\n",
    "\n",
    "## Reminder of the basics\n",
    "\n",
    "First, let's do a quick reminder about binary.\n",
    "\n",
    "\n",
    "## Algorithm\n",
    "\n",
    "### GCD\n",
    "\n",
    "### SQRT\n",
    "\n",
    "### integer to binary \n",
    "\n",
    "## Conclusion"
   ]
  }
 ],
 "metadata": {
  "language_info": {
   "name": "python"
  },
  "orig_nbformat": 4
 },
 "nbformat": 4,
 "nbformat_minor": 2
}
